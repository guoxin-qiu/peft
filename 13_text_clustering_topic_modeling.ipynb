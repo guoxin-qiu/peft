{
 "cells": [
  {
   "cell_type": "markdown",
   "id": "21ebdd31-a609-4b3c-bede-e7532182db97",
   "metadata": {},
   "source": [
    "**文本聚类和主题建模**"
   ]
  },
  {
   "cell_type": "code",
   "execution_count": 1,
   "id": "211bc9ca-c47b-4ea0-a4bb-dfb90a2afa05",
   "metadata": {},
   "outputs": [],
   "source": [
    "import pandas as pd"
   ]
  },
  {
   "cell_type": "code",
   "execution_count": 4,
   "id": "04de5d9d-aa17-40b7-a9fa-408a77dcc375",
   "metadata": {},
   "outputs": [],
   "source": [
    "excel_df = pd.read_csv(\"r_data/arxiv_nlp/arxiv_nlp_data.csv\", encoding=\"utf-8\", low_memory=False, on_bad_lines=\"skip\")\n",
    "excel_df.to_parquet(\"r_data/arxiv_nlp/arxiv_nlp_data.parquet\", engine=\"pyarrow\")"
   ]
  },
  {
   "cell_type": "code",
   "execution_count": null,
   "id": "e3de362a-cbbc-4388-854b-365a22d3839c",
   "metadata": {},
   "outputs": [],
   "source": [
    "# excel_df = pd.read_parquet(\"r_data/arxiv_nlp_data.parquet\")"
   ]
  },
  {
   "cell_type": "code",
   "execution_count": 2,
   "id": "08ac0d80-6c2b-45be-bef7-e236674a4512",
   "metadata": {},
   "outputs": [],
   "source": [
    "from datasets import Dataset, DatasetDict"
   ]
  },
  {
   "cell_type": "code",
   "execution_count": 3,
   "id": "cdef771b-ce95-4b24-9c4c-ca33c8f09eba",
   "metadata": {},
   "outputs": [],
   "source": [
    "dataset_all = Dataset.from_parquet(\"r_data/arxiv_nlp/arxiv_nlp_data.parquet\")"
   ]
  },
  {
   "cell_type": "code",
   "execution_count": 4,
   "id": "bc4b0058-ba6e-4321-89fe-8358069cf552",
   "metadata": {},
   "outputs": [],
   "source": [
    "dataset = dataset_all.select(range(100))"
   ]
  },
  {
   "cell_type": "code",
   "execution_count": 5,
   "id": "5ecdfe19-1a3c-496d-a776-113f1651e5da",
   "metadata": {},
   "outputs": [
    {
     "data": {
      "text/plain": [
       "(100, 4)"
      ]
     },
     "execution_count": 5,
     "metadata": {},
     "output_type": "execute_result"
    }
   ],
   "source": [
    "dataset.shape"
   ]
  },
  {
   "cell_type": "code",
   "execution_count": 6,
   "id": "36df6935-4993-4fca-b329-0b2edc23f53a",
   "metadata": {},
   "outputs": [],
   "source": [
    "# 提取元数据\n",
    "abstracts = dataset[\"Abstracts\"]\n",
    "titles = dataset[\"Titles\"]"
   ]
  },
  {
   "cell_type": "markdown",
   "id": "75b2fbe5-8533-4af3-8e98-49d3b1bbdc4e",
   "metadata": {},
   "source": [
    "文本聚类的通用流程： 嵌入模型（embedding model）-> 降维模型（dimensionality reduction model） -> 聚类模型（cluster model）"
   ]
  },
  {
   "cell_type": "markdown",
   "id": "f9058e79-c8f0-4523-9e09-9f1d7aad7c20",
   "metadata": {},
   "source": [
    "## 文本聚类"
   ]
  },
  {
   "cell_type": "markdown",
   "id": "c4c0492b-804b-4f01-83b5-3f07ca8e7f59",
   "metadata": {},
   "source": [
    "### 嵌入文档"
   ]
  },
  {
   "cell_type": "code",
   "execution_count": 7,
   "id": "eafae8d3-775b-42ac-955f-6efa61faa8a8",
   "metadata": {},
   "outputs": [],
   "source": [
    "from sentence_transformers import SentenceTransformer\n",
    "# 为每个摘要创建嵌入向量\n",
    "embedding_model = SentenceTransformer(\"/data/models/thenlper-gte-small\")"
   ]
  },
  {
   "cell_type": "code",
   "execution_count": null,
   "id": "ab31f1cf-c5f4-48e5-a601-43e1f1852f3a",
   "metadata": {},
   "outputs": [],
   "source": [
    "embeddings = embedding_model.encode(abstracts, show_progress_bar=True)"
   ]
  },
  {
   "cell_type": "code",
   "execution_count": 12,
   "id": "5cd4f82c-c6ec-4e15-82d4-d12e7088206d",
   "metadata": {},
   "outputs": [
    {
     "data": {
      "text/plain": [
       "(100, 384)"
      ]
     },
     "execution_count": 12,
     "metadata": {},
     "output_type": "execute_result"
    }
   ],
   "source": [
    "embeddings.shape"
   ]
  },
  {
   "cell_type": "code",
   "execution_count": 9,
   "id": "06fb1d5c-2e78-4fd8-bd48-655d854b7151",
   "metadata": {},
   "outputs": [],
   "source": [
    "import pickle"
   ]
  },
  {
   "cell_type": "code",
   "execution_count": 14,
   "id": "5354486b-cb47-493e-b8fe-07a108e5d11e",
   "metadata": {},
   "outputs": [],
   "source": [
    "with open('r_data/arxiv_nlp/arxiv_nlp_origin_embedding_100.pkl', 'wb') as f:\n",
    "    pickle.dump(embeddings, f)"
   ]
  },
  {
   "cell_type": "code",
   "execution_count": 10,
   "id": "0653d99c-8b89-4f9d-a1ba-7b9f3569abe0",
   "metadata": {},
   "outputs": [],
   "source": [
    "with open('r_data/arxiv_nlp/arxiv_nlp_origin_embedding_100.pkl', 'rb') as f:\n",
    "    embeddings = pickle.load(f)"
   ]
  },
  {
   "cell_type": "markdown",
   "id": "8c355a6a-b679-4722-8a18-25a0c88e3746",
   "metadata": {},
   "source": [
    "### 嵌入向量降维"
   ]
  },
  {
   "cell_type": "code",
   "execution_count": 11,
   "id": "e2cdb59b-abc3-4827-8494-3a19812cb36b",
   "metadata": {},
   "outputs": [
    {
     "name": "stderr",
     "output_type": "stream",
     "text": [
      "C:\\Users\\ThinkPad\\anaconda3\\envs\\peft\\Lib\\site-packages\\umap\\umap_.py:1952: UserWarning: n_jobs value 1 overridden to 1 by setting random_state. Use no seed for parallelism.\n",
      "  warn(\n"
     ]
    }
   ],
   "source": [
    "# pip install umap-learn\n",
    "from umap import UMAP\n",
    "# 将输入嵌入向量从384维降至5维\n",
    "umap_model = UMAP(\n",
    "    n_components=5, min_dist=0.0, metric=\"cosine\", random_state=42\n",
    ")\n",
    "reduced_embeddings = umap_model.fit_transform(embeddings)"
   ]
  },
  {
   "cell_type": "code",
   "execution_count": 13,
   "id": "5b813918-0cd6-47d4-9691-2864f58f1248",
   "metadata": {},
   "outputs": [],
   "source": [
    "with open('r_data/arxiv_nlp/arxiv_nlp_reduced_embeddings.pkl', 'wb') as f:\n",
    "    pickle.dump(reduced_embeddings, f)"
   ]
  },
  {
   "cell_type": "code",
   "execution_count": 14,
   "id": "edd8cdf0-06cb-4f96-8adc-27f13cc4d5a2",
   "metadata": {},
   "outputs": [],
   "source": [
    "# pip install hdbscan\n",
    "from hdbscan import HDBSCAN"
   ]
  },
  {
   "cell_type": "code",
   "execution_count": 16,
   "id": "9ded900d-adaa-40ac-bec8-bba7ad3c8fe6",
   "metadata": {},
   "outputs": [
    {
     "name": "stderr",
     "output_type": "stream",
     "text": [
      "C:\\Users\\ThinkPad\\anaconda3\\envs\\peft\\Lib\\site-packages\\sklearn\\utils\\deprecation.py:132: FutureWarning: 'force_all_finite' was renamed to 'ensure_all_finite' in 1.6 and will be removed in 1.8.\n",
      "  warnings.warn(\n",
      "C:\\Users\\ThinkPad\\anaconda3\\envs\\peft\\Lib\\site-packages\\sklearn\\utils\\deprecation.py:132: FutureWarning: 'force_all_finite' was renamed to 'ensure_all_finite' in 1.6 and will be removed in 1.8.\n",
      "  warnings.warn(\n"
     ]
    },
    {
     "data": {
      "text/plain": [
       "6"
      ]
     },
     "execution_count": 16,
     "metadata": {},
     "output_type": "execute_result"
    }
   ],
   "source": [
    "# 拟合模型并提取簇\n",
    "hdbscan_model = HDBSCAN(\n",
    "    min_cluster_size=5, metric=\"euclidean\", cluster_selection_method=\"eom\"\n",
    ").fit(reduced_embeddings)\n",
    "clusters = hdbscan_model.labels_\n",
    "len(set(clusters))"
   ]
  },
  {
   "cell_type": "markdown",
   "id": "aa1cbdd6-988e-48ad-a58b-542c746d15be",
   "metadata": {},
   "source": [
    "### 检查生成的簇"
   ]
  },
  {
   "cell_type": "code",
   "execution_count": 18,
   "id": "1daa2685-b55c-4ba8-9507-e29674ed42c9",
   "metadata": {},
   "outputs": [
    {
     "name": "stdout",
     "output_type": "stream",
     "text": [
      "  We test a segmentation algorithm, based on the calculation of the\n",
      "Jensen-Shannon divergence between probability distributions, to two symbolic\n",
      "sequences of literary and musical origin. The first sequence represents the\n",
      "successive appearance of characters in a theatrical play, and the second\n",
      "repres... \n",
      "\n",
      "  We examine an evolutionary naming-game model where communicating agents are\n",
      "equipped with an evolutionarily selected learning ability. Such a coupling of\n",
      "biological and linguistic ingredients results in an abrupt transition: upon a\n",
      "small change of a model control parameter a poorly communicating g... \n",
      "\n",
      "  Zipf's law states that if words of language are ranked in the order of\n",
      "decreasing frequency in texts, the frequency of a word is inversely\n",
      "proportional to its rank. It is very robust as an experimental observation, but\n",
      "to date it escaped satisfactory theoretical explanation. We suggest that Zipf's... \n",
      "\n"
     ]
    }
   ],
   "source": [
    "import numpy as np\n",
    "cluster = 0\n",
    "for index in np.where(clusters==cluster)[0][:3]:\n",
    "    print(abstracts[index][:300] + \"... \\n\")"
   ]
  },
  {
   "cell_type": "code",
   "execution_count": 19,
   "id": "50a843e3-94f0-456f-8e9a-4a63376a2381",
   "metadata": {},
   "outputs": [
    {
     "name": "stderr",
     "output_type": "stream",
     "text": [
      "C:\\Users\\ThinkPad\\anaconda3\\envs\\peft\\Lib\\site-packages\\umap\\umap_.py:1952: UserWarning: n_jobs value 1 overridden to 1 by setting random_state. Use no seed for parallelism.\n",
      "  warn(\n"
     ]
    }
   ],
   "source": [
    "# 将文档嵌入降至二维，绘制文档\n",
    "import pandas as pd\n",
    "# 将384维的向量降至二维以便于可视化\n",
    "reduced_embeddings = UMAP(\n",
    "    n_components=2, min_dist=0.0, metric=\"cosine\", random_state=42\n",
    ").fit_transform(embeddings)\n",
    "# 创建数据框\n",
    "df = pd.DataFrame(reduced_embeddings, columns=[\"x\",\"y\"])\n",
    "df[\"title\"] = titles\n",
    "df[\"cluster\"] = [str(c) for c in clusters]\n",
    "# 选择离群点和非离群点（聚类）\n",
    "clusters_df = df.loc[df.cluster != \"-1\", :]\n",
    "outliers_df = df.loc[df.cluster == \"-1\", :]"
   ]
  },
  {
   "cell_type": "code",
   "execution_count": 23,
   "id": "0776e390-1afb-45f4-bf19-d2b88aece343",
   "metadata": {},
   "outputs": [
    {
     "data": {
      "text/plain": [
       "(5.171938347816467, 9.308269572257995, 1.2656815588474273, 6.010388678312301)"
      ]
     },
     "execution_count": 23,
     "metadata": {},
     "output_type": "execute_result"
    },
    {
     "data": {
      "image/png": "[encoded data removed]",
      "text/plain": [
       "<Figure size 640x480 with 1 Axes>"
      ]
     },
     "metadata": {},
     "output_type": "display_data"
    }
   ],
   "source": [
    "import matplotlib.pyplot as plt\n",
    "# 分别绘制离群点和非离群点\n",
    "plt.scatter(outliers_df.x, outliers_df.y, alpha=0.05, s=20, c=\"grey\")\n",
    "plt.scatter(clusters_df.x, clusters_df.y, c=clusters_df.cluster.astype(int), alpha=0.6, s=20, cmap=\"tab20b\")\n",
    "plt.axis(\"off\")"
   ]
  },
  {
   "cell_type": "markdown",
   "id": "9b439acb-41a2-424d-a3d8-11f2853ba2a3",
   "metadata": {},
   "source": [
    "## 主体建模"
   ]
  },
  {
   "cell_type": "code",
   "execution_count": 50,
   "id": "061e5a4f-bf12-4013-bb90-9fc36b06fc33",
   "metadata": {},
   "outputs": [],
   "source": [
    "# pip install bertopic\n",
    "# pip install bertopic[visualization]\n",
    "from bertopic import BERTopic"
   ]
  },
  {
   "cell_type": "code",
   "execution_count": 51,
   "id": "8af088b4-0423-42c9-b0bd-ee599e2fb144",
   "metadata": {},
   "outputs": [
    {
     "name": "stderr",
     "output_type": "stream",
     "text": [
      "2025-07-23 09:20:34,917 - BERTopic - Dimensionality - Fitting the dimensionality reduction algorithm\n",
      "2025-07-23 09:20:35,176 - BERTopic - Dimensionality - Completed ✓\n",
      "2025-07-23 09:20:35,177 - BERTopic - Cluster - Start clustering the reduced embeddings\n",
      "2025-07-23 09:20:35,182 - BERTopic - Cluster - Completed ✓\n",
      "2025-07-23 09:20:35,185 - BERTopic - Representation - Fine-tuning topics using representation models.\n",
      "2025-07-23 09:20:35,221 - BERTopic - Representation - Completed ✓\n"
     ]
    }
   ],
   "source": [
    "# 使用之前定义的模型训练我们的模型\n",
    "topic_model = BERTopic(\n",
    "    embedding_model=embedding_model,\n",
    "    umap_model=umap_model,\n",
    "    hdbscan_model=hdbscan_model,\n",
    "    verbose=True\n",
    ").fit(abstracts, embeddings)"
   ]
  },
  {
   "cell_type": "code",
   "execution_count": 52,
   "id": "6c7a963a-cca8-4d7c-8d76-4f391c9e129c",
   "metadata": {},
   "outputs": [
    {
     "data": {
      "text/html": [
       "<div>\n",
       "<style scoped>\n",
       "    .dataframe tbody tr th:only-of-type {\n",
       "        vertical-align: middle;\n",
       "    }\n",
       "\n",
       "    .dataframe tbody tr th {\n",
       "        vertical-align: top;\n",
       "    }\n",
       "\n",
       "    .dataframe thead th {\n",
       "        text-align: right;\n",
       "    }\n",
       "</style>\n",
       "<table border=\"1\" class=\"dataframe\">\n",
       "  <thead>\n",
       "    <tr style=\"text-align: right;\">\n",
       "      <th></th>\n",
       "      <th>Topic</th>\n",
       "      <th>Count</th>\n",
       "      <th>Name</th>\n",
       "      <th>Representation</th>\n",
       "      <th>Representative_Docs</th>\n",
       "    </tr>\n",
       "  </thead>\n",
       "  <tbody>\n",
       "    <tr>\n",
       "      <th>0</th>\n",
       "      <td>-1</td>\n",
       "      <td>18</td>\n",
       "      <td>-1_the_of_to_and</td>\n",
       "      <td>[the, of, to, and, in, is, as, language, for, ...</td>\n",
       "      <td>[  This paper discusses two new procedures for...</td>\n",
       "    </tr>\n",
       "    <tr>\n",
       "      <th>1</th>\n",
       "      <td>0</td>\n",
       "      <td>27</td>\n",
       "      <td>0_the_of_and_in</td>\n",
       "      <td>[the, of, and, in, to, is, that, language, we,...</td>\n",
       "      <td>[  Background: Zipf's discovery that word freq...</td>\n",
       "    </tr>\n",
       "    <tr>\n",
       "      <th>2</th>\n",
       "      <td>1</td>\n",
       "      <td>25</td>\n",
       "      <td>1_of_the_and_in</td>\n",
       "      <td>[of, the, and, in, to, for, we, with, grammar,...</td>\n",
       "      <td>[  Shifting to a lexicalized grammar reduces t...</td>\n",
       "    </tr>\n",
       "    <tr>\n",
       "      <th>3</th>\n",
       "      <td>2</td>\n",
       "      <td>14</td>\n",
       "      <td>2_the_of_to_semantic</td>\n",
       "      <td>[the, of, to, semantic, in, and, on, is, are, ...</td>\n",
       "      <td>[  The goal of this paper is to present a mode...</td>\n",
       "    </tr>\n",
       "    <tr>\n",
       "      <th>4</th>\n",
       "      <td>3</td>\n",
       "      <td>9</td>\n",
       "      <td>3_the_of_we_in</td>\n",
       "      <td>[the, of, we, in, and, to, events, for, is, this]</td>\n",
       "      <td>[  In this paper we present the first step in ...</td>\n",
       "    </tr>\n",
       "    <tr>\n",
       "      <th>5</th>\n",
       "      <td>4</td>\n",
       "      <td>7</td>\n",
       "      <td>4_the_native_recognition_non</td>\n",
       "      <td>[the, native, recognition, non, speech, of, we...</td>\n",
       "      <td>[  In this paper, we present several adaptatio...</td>\n",
       "    </tr>\n",
       "  </tbody>\n",
       "</table>\n",
       "</div>"
      ],
      "text/plain": [
       "   Topic  Count                          Name  \\\n",
       "0     -1     18              -1_the_of_to_and   \n",
       "1      0     27               0_the_of_and_in   \n",
       "2      1     25               1_of_the_and_in   \n",
       "3      2     14          2_the_of_to_semantic   \n",
       "4      3      9                3_the_of_we_in   \n",
       "5      4      7  4_the_native_recognition_non   \n",
       "\n",
       "                                      Representation  \\\n",
       "0  [the, of, to, and, in, is, as, language, for, ...   \n",
       "1  [the, of, and, in, to, is, that, language, we,...   \n",
       "2  [of, the, and, in, to, for, we, with, grammar,...   \n",
       "3  [the, of, to, semantic, in, and, on, is, are, ...   \n",
       "4  [the, of, we, in, and, to, events, for, is, this]   \n",
       "5  [the, native, recognition, non, speech, of, we...   \n",
       "\n",
       "                                 Representative_Docs  \n",
       "0  [  This paper discusses two new procedures for...  \n",
       "1  [  Background: Zipf's discovery that word freq...  \n",
       "2  [  Shifting to a lexicalized grammar reduces t...  \n",
       "3  [  The goal of this paper is to present a mode...  \n",
       "4  [  In this paper we present the first step in ...  \n",
       "5  [  In this paper, we present several adaptatio...  "
      ]
     },
     "execution_count": 52,
     "metadata": {},
     "output_type": "execute_result"
    }
   ],
   "source": [
    "topic_model.get_topic_info()"
   ]
  },
  {
   "cell_type": "code",
   "execution_count": 53,
   "id": "787aa873-30c5-4b97-8c0a-0299294ed5ed",
   "metadata": {},
   "outputs": [
    {
     "data": {
      "text/plain": [
       "[('the', 0.0876200464985125),\n",
       " ('of', 0.08621575161342712),\n",
       " ('and', 0.05688542814779539),\n",
       " ('in', 0.04881712105605479),\n",
       " ('to', 0.040494773867762256),\n",
       " ('is', 0.03903876768513057),\n",
       " ('that', 0.0377718240288504),\n",
       " ('language', 0.03269613834881391),\n",
       " ('we', 0.02989083333350332),\n",
       " ('for', 0.02947134161630801)]"
      ]
     },
     "execution_count": 53,
     "metadata": {},
     "output_type": "execute_result"
    }
   ],
   "source": [
    "topic_model.get_topic(0)"
   ]
  },
  {
   "cell_type": "code",
   "execution_count": 54,
   "id": "a7fa69ff-03de-4283-ad3e-42f5eadd43f1",
   "metadata": {},
   "outputs": [
    {
     "data": {
      "text/plain": [
       "([2, 1, -1, 3, 0], [0.90356064, 0.89592403, 0.8944212, 0.88370293, 0.87715065])"
      ]
     },
     "execution_count": 54,
     "metadata": {},
     "output_type": "execute_result"
    }
   ],
   "source": [
    "topic_model.find_topics(\"semantic\")"
   ]
  },
  {
   "cell_type": "code",
   "execution_count": 55,
   "id": "b3cc357a-710c-43c6-b0d4-19356bd07767",
   "metadata": {},
   "outputs": [
    {
     "data": {
      "text/plain": [
       "[('the', 0.0729665375513771),\n",
       " ('of', 0.07112657700396774),\n",
       " ('to', 0.06387811972069568),\n",
       " ('semantic', 0.056954390393186304),\n",
       " ('in', 0.04812883252264661),\n",
       " ('and', 0.04770637044129778),\n",
       " ('on', 0.03676416550515996),\n",
       " ('is', 0.03580311381349086),\n",
       " ('are', 0.035093067073107234),\n",
       " ('words', 0.03414110188183097)]"
      ]
     },
     "execution_count": 55,
     "metadata": {},
     "output_type": "execute_result"
    }
   ],
   "source": [
    "topic_model.get_topic(2)"
   ]
  },
  {
   "cell_type": "code",
   "execution_count": 56,
   "id": "656899d4-a7b3-4320-8e91-57ed083d724c",
   "metadata": {},
   "outputs": [
    {
     "data": {
      "text/plain": [
       "2"
      ]
     },
     "execution_count": 56,
     "metadata": {},
     "output_type": "execute_result"
    }
   ],
   "source": [
    "topic_model.topics_[titles.index(\"A semantic space for modeling children's semantic memory\")]"
   ]
  },
  {
   "cell_type": "code",
   "execution_count": 57,
   "id": "6d974a99-dca2-4f2c-81e4-ecd56dc25d75",
   "metadata": {},
   "outputs": [
    {
     "data": {
      "application/vnd.plotly.v1+json": {
       "config": {
        "plotlyServerURL": "https://plot.ly"
       },
       "data": [
        {
         "hoverinfo": "text",
         "hovertext": [
          "Valence extraction using EM selection and co-occurrence matrices",
          "In memoriam Maurice Gross",
          "What's in a Name?",
          "On the fractal nature of mutual relevance sequences in the Internet news\n  message flows",
          "Effects of High-Order Co-occurrences on Word Semantic Similarities",
          "Network statistics on early English Syntax: Structural criteria",
          "New Confidence Measures for Statistical Machine Translation",
          "Open architecture for multilingual parallel texts",
          "Graph Algorithms for Improving Type-Logical Proof Search",
          "About the creation of a parallel bilingual corpora of web-publications",
          "The Generation of Textual Entailment with NLML in an Intelligent\n  Dialogue system for Language Learning CSIEC",
          "Google distance between words",
          "A Semi-Automatic Framework to Discover Epistemic Modalities in\n  Scientific Articles",
          "Using descriptive mark-up to formalize translation quality assessment",
          "Online-concordance \"Perekhresni stezhky\" (\"The Cross-Paths\"), a novel by\n  Ivan Franko",
          "The structure of verbal sequences analyzed with unsupervised learning\n  techniques",
          "Practical Approach to Knowledge-based Question Answering with Natural\n  Language Understanding and Advanced Reasoning",
          "Network of two-Chinese-character compound words in Japanese language",
          null
         ],
         "marker": {
          "color": "#CFD8DC",
          "opacity": 0.5,
          "size": 5
         },
         "mode": "markers+text",
         "name": "other",
         "showlegend": false,
         "type": "scattergl",
         "x": {
          "bdata": "1JvjQEAdAEG04NNALQ4OQSYAD0HdXNpAnTTfQOQ11EDf0chAPjvaQEW110Cwvg5BN4r2QDPmz0A+LOZAYJfoQJbd2UDXdfRABGnqQA==",
          "dtype": "f4"
         },
         "y": {
          "bdata": "KNNNQARVi0BRhZNA5qF5QCy5WUBapE5Ai6uFQL0igkBrP+k/AxGMQH7i7z/doFtA+cp3QDxbdEBk2IxADg8mQJ9p1T+t/ZtAjHJiQA==",
          "dtype": "f4"
         }
        },
        {
         "hoverinfo": "text",
         "hovertext": [
          "Can a Computer Laugh ?",
          "Constructing word similarities in Meroitic as an aid to decipherment",
          "On the role of autocorrelations in texts",
          "Approaching the linguistic complexity",
          "Beyond word frequency: Bursts, lulls, and scaling in the temporal\n  distributions of words",
          "Segmentation and Context of Literary and Musical Sequences",
          "Some properties of the Ukrainian writing system",
          "How to realize \"a sense of humour\" in computers ?",
          "Beyond Zipf's law: Modeling the structure of human language",
          "On the nature of long-range letter correlations in texts",
          "Zipf's Law and Avoidance of Excessive Synonymy",
          "Textual Fingerprinting with Texts from Parkin, Bassewitz, and Leander",
          "Soft Uncoupling of Markov Chains for Permeable Language Distinction: A\n  New Algorithm",
          "Discovering Global Patterns in Linguistic Networks through Spectral\n  Analysis: A Case Study of the Consonant Inventories",
          "Between conjecture and memento: shaping a collective emotional\n  perception of the future",
          "Distribution of complexities in the Vai script",
          "Linguistic Information Energy",
          "Language structure in the n-object naming game",
          "Statistical analysis of the Indus script using $n$-grams",
          "What It Feels Like To Hear Voices: Fond Memories of Julian Jaynes",
          "Investigation of the Zipf-plot of the extinct Meroitic language",
          "The emerging field of language dynamics",
          "Bio-linguistic transition and Baldwin effect in an evolutionary\n  naming-game model",
          "On the Entropy of Written Spanish",
          "Formal semantics of language and the Richard-Berry paradox",
          "A Comparison of natural (english) and artificial (esperanto) languages.\n  A Multifractal method based analysis",
          "Text as Statistical Mechanics Object"
         ],
         "marker": {
          "opacity": 0.5,
          "size": 5
         },
         "mode": "markers+text",
         "name": "0_the_of_and",
         "text": [
          "",
          "",
          "",
          "",
          "",
          "",
          "",
          "",
          "",
          "",
          "",
          "",
          "",
          "",
          "",
          "",
          "",
          "",
          "",
          "",
          "",
          "",
          "",
          "",
          "",
          "",
          ""
         ],
         "textfont": {
          "size": 12
         },
         "type": "scattergl",
         "x": {
          "bdata": "+7ARQYzs4kBWdgpBKOUHQQlPEEGQfANBiHDrQMHzEEFovQ5Bqn8JQTwhDUHpdAFB6wHgQNkm8UCQ7BFBrvsBQdvgCEEvnRFBzvfyQAJlBUE/nABBUHAEQSmiEEFjCAJBPysKQWDDBUEfiQhB",
          "dtype": "f4"
         },
         "y": {
          "bdata": "lVSZQCCJsUCh46ZAdLGvQPjSrUBIQrJAlOukQCTgj0AsRrRAowu3QKgPr0CXpKpATFGhQG9FqUDdXpFAWW65QL+Xk0AJa6lA43S0QHuPjECPLLJANyKXQP/DpUBRXKRAe0uiQL2Sr0AMnp5A",
          "dtype": "f4"
         }
        },
        {
         "hoverinfo": "text",
         "hovertext": [
          "Une grammaire formelle du cr\\'eole martiniquais pour la g\\'en\\'eration\n  automatique",
          "A Formal Model of Dictionary Structure and Content",
          "Graphes param\\'etr\\'es et outils de lexicalisation",
          "A resource-based Korean morphological annotation system",
          "A Layered Grammar Model: Using Tree-Adjoining Grammars to Build a Common\n  Syntactic Kernel for Related Dialects",
          "Concerning Olga, the Beautiful Little Street Dancer (Adjectives as\n  Higher-Order Polymorphic Functions)",
          "Using Description Logics for Recognising Textual Entailment",
          "UNL-French deconversion as transfer & generation from an interlingua\n  with possible quality enhancement through offline human interaction",
          "Proof nets for display logic",
          "Outilex, plate-forme logicielle de traitement de textes \\'ecrits",
          "Syntactic variation of support verb constructions",
          "A toolkit for a generative lexicon",
          "Let's get the student into the driver's seat",
          "Computational Representation of Linguistic Structures using\n  Domain-Specific Languages",
          "Morphological annotation of Korean with Directly Maintainable Resources",
          "Robustness Evaluation of Two CCG, a PCFG and a Link Grammar Parsers",
          "International Standard for a Linguistic Annotation Framework",
          "Lexicon management and standard formats",
          "Feature Unification in TAG Derivation Trees",
          "Exploring a type-theoretic approach to accessibility constraint\n  modelling",
          "Evaluation of a Grammar of French Determiners",
          "Very strict selectional restrictions",
          "On the Development of Text Input Method - Lessons Learned",
          "TuLiPA: Towards a Multi-Formalism Parsing Environment for Grammar\n  Engineering",
          "Framework and Resources for Natural Language Parser Evaluation"
         ],
         "marker": {
          "opacity": 0.5,
          "size": 5
         },
         "mode": "markers+text",
         "name": "1_of_the_and",
         "text": [
          "",
          "",
          "",
          "",
          "",
          "",
          "",
          "",
          "",
          "",
          "",
          "",
          "",
          "",
          "",
          "",
          "",
          "",
          "",
          "",
          "",
          "",
          "",
          "",
          ""
         ],
         "textfont": {
          "size": 12
         },
         "type": "scattergl",
         "x": {
          "bdata": "bJetQIMjyUDlssBALwq9QD/aq0BGX8NAB47dQApCt0D8175Asd+7QIvd10ACjtFAk0PWQAeau0CXJ8FAEmPHQFT/wEBTCcdA3t63QLi0zEDSTMhAYlGvQKONwEClBbxAZTrBQA==",
          "dtype": "f4"
         },
         "y": {
          "bdata": "BXgzQNz5UkA6OjpAedJ3QL6kP0COxPw/ionGP+i9WECrPwhAWzlgQLcsL0DfK0pAMFJWQJfjHEB5eHdAKRI/QHYWakBCTl9A/OEkQBGN2T8FkTRA4nU2QLHhfECs0yNAqwcsQA==",
          "dtype": "f4"
         }
        },
        {
         "hoverinfo": "text",
         "hovertext": [
          "How Is Meaning Grounded in Dictionary Definitions?",
          "Analyse spectrale des textes: d\\'etection automatique des fronti\\`eres\n  de langue et de discours",
          "Du corpus au dictionnaire",
          "A Computational Model to Disentangle Semantic Information Embedded in\n  Word Association Norms",
          "The Latent Relation Mapping Engine: Algorithm and Experiments",
          "Methods to integrate a language model with semantic information for a\n  word prediction component",
          "Bootstrapping Deep Lexical Resources: Resources for Courses",
          "A chain dictionary method for Word Sense Disambiguation and applications",
          "A semantic space for modeling children's semantic memory",
          "BagPack: A general framework to represent semantic relations",
          "A Uniform Approach to Analogies, Synonyms, Antonyms, and Associations",
          "Computational Approaches to Measuring the Similarity of Short Contexts :\n  A Review of Applications and Methods",
          "Learning Probabilistic Models of Word Sense Disambiguation",
          "Parts-of-Speech Tagger Errors Do Not Necessarily Degrade Accuracy in\n  Extracting Information from Biomedical Text"
         ],
         "marker": {
          "opacity": 0.5,
          "size": 5
         },
         "mode": "markers+text",
         "name": "2_the_of_to",
         "text": [
          "",
          "",
          "",
          "",
          "",
          "",
          "",
          "",
          "",
          "",
          "",
          "",
          "",
          ""
         ],
         "textfont": {
          "size": 12
         },
         "type": "scattergl",
         "x": {
          "bdata": "1TUEQTJU80AnlfxAmngFQf/7BkFcsAJBrUf0QK4RBEGr9ApBgLwHQYhfBEFfxQtBi4f/QKZS8UA=",
          "dtype": "f4"
         },
         "y": {
          "bdata": "WetbQBBHWECb1ylAFepNQNejLkBHlj9A9wFKQGSNOUD3GCVAXdVBQA6KNkAqIDZAkNVDQMR9OEA=",
          "dtype": "f4"
         }
        },
        {
         "hoverinfo": "text",
         "hovertext": [
          "What's in a Message?",
          "CoZo+ - A Content Zoning Engine for textual documents",
          "Using Synchronic and Diachronic Relations for Summarizing Multiple\n  Documents Describing Evolving Events",
          "Figuring out Actors in Text Streams: Using Collocations to establish\n  Incremental Mind-maps",
          "Assembling Actor-based Mind-Maps from Text Stream",
          "Textual Entailment Recognizing by Theorem Proving Approach",
          "The Application of Fuzzy Logic to Collocation Extraction",
          "Some Reflections on the Task of Content Determination in the Context of\n  Multi-Document Summarization of Evolving Events",
          "Generating models for temporal representations"
         ],
         "marker": {
          "opacity": 0.5,
          "size": 5
         },
         "mode": "markers+text",
         "name": "3_the_of_we",
         "text": [
          "",
          "",
          "",
          "",
          "",
          "",
          "",
          "",
          ""
         ],
         "textfont": {
          "size": 12
         },
         "type": "scattergl",
         "x": {
          "bdata": "dzbtQAFY80C8svlAhUn6QLBL9kCPmutAHQjwQA6y80DL5fxA",
          "dtype": "f4"
         },
         "y": {
          "bdata": "SVsRQAyuAEBaNhFA0pDoP3Vl6T/bJtg/4Zy9P4+4EEBsxgdA",
          "dtype": "f4"
         }
        },
        {
         "hoverinfo": "text",
         "hovertext": [
          "Am\\'elioration des Performances des Syst\\`emes Automatiques de\n  Reconnaissance de la Parole pour la Parole Non Native",
          "Discriminative Phoneme Sequences Extraction for Non-Native Speaker's\n  Origin Classification",
          "Introduction to Arabic Speech Recognition Using CMUSphinx System",
          "Arabic Speech Recognition System using CMU-Sphinx4",
          "Phoneme recognition in TIMIT with BLSTM-CTC",
          "Learning Phonotactics Using ILP",
          "Combined Acoustic and Pronunciation Modelling for Non-Native Speech\n  Recognition"
         ],
         "marker": {
          "opacity": 0.5,
          "size": 5
         },
         "mode": "markers+text",
         "name": "4_the_native_recognition",
         "text": [
          "",
          "",
          "",
          "",
          "",
          "",
          ""
         ],
         "textfont": {
          "size": 12
         },
         "type": "scattergl",
         "x": {
          "bdata": "v5a9QJWgvUDlBcZA0h3GQK71wkC9hKtAA9G9QA==",
          "dtype": "f4"
         },
         "y": {
          "bdata": "RxutQIgnrkA+cK1Ah8epQF7UqkCwRWZADhypQA==",
          "dtype": "f4"
         }
        }
       ],
       "layout": {
        "annotations": [
         {
          "showarrow": false,
          "text": "D1",
          "x": 4.555960392951965,
          "y": 3.9615378767251967,
          "yshift": 10
         },
         {
          "showarrow": false,
          "text": "D2",
          "x": 7.522126543521881,
          "xshift": 10,
          "y": 6.663928198814392
         }
        ],
        "font": {
         "size": 16
        },
        "height": 750,
        "shapes": [
         {
          "line": {
           "color": "#CFD8DC",
           "width": 2
          },
          "type": "line",
          "x0": 7.522126543521881,
          "x1": 7.522126543521881,
          "y0": 1.2591475546360016,
          "y1": 6.663928198814392
         },
         {
          "line": {
           "color": "#9E9E9E",
           "width": 2
          },
          "type": "line",
          "x0": 4.555960392951965,
          "x1": 10.488292694091797,
          "y0": 3.9615378767251967,
          "y1": 3.9615378767251967
         }
        ],
        "template": {
         "data": {
          "bar": [
           {
            "error_x": {
             "color": "rgb(36,36,36)"
            },
            "error_y": {
             "color": "rgb(36,36,36)"
            },
            "marker": {
             "line": {
              "color": "white",
              "width": 0.5
             },
             "pattern": {
              "fillmode": "overlay",
              "size": 10,
              "solidity": 0.2
             }
            },
            "type": "bar"
           }
          ],
          "barpolar": [
           {
            "marker": {
             "line": {
              "color": "white",
              "width": 0.5
             },
             "pattern": {
              "fillmode": "overlay",
              "size": 10,
              "solidity": 0.2
             }
            },
            "type": "barpolar"
           }
          ],
          "carpet": [
           {
            "aaxis": {
             "endlinecolor": "rgb(36,36,36)",
             "gridcolor": "white",
             "linecolor": "white",
             "minorgridcolor": "white",
             "startlinecolor": "rgb(36,36,36)"
            },
            "baxis": {
             "endlinecolor": "rgb(36,36,36)",
             "gridcolor": "white",
             "linecolor": "white",
             "minorgridcolor": "white",
             "startlinecolor": "rgb(36,36,36)"
            },
            "type": "carpet"
           }
          ],
          "choropleth": [
           {
            "colorbar": {
             "outlinewidth": 1,
             "tickcolor": "rgb(36,36,36)",
             "ticks": "outside"
            },
            "type": "choropleth"
           }
          ],
          "contour": [
           {
            "colorbar": {
             "outlinewidth": 1,
             "tickcolor": "rgb(36,36,36)",
             "ticks": "outside"
            },
            "colorscale": [
             [
              0,
              "#440154"
             ],
             [
              0.1111111111111111,
              "#482878"
             ],
             [
              0.2222222222222222,
              "#3e4989"
             ],
             [
              0.3333333333333333,
              "#31688e"
             ],
             [
              0.4444444444444444,
              "#26828e"
             ],
             [
              0.5555555555555556,
              "#1f9e89"
             ],
             [
              0.6666666666666666,
              "#35b779"
             ],
             [
              0.7777777777777778,
              "#6ece58"
             ],
             [
              0.8888888888888888,
              "#b5de2b"
             ],
             [
              1,
              "#fde725"
             ]
            ],
            "type": "contour"
           }
          ],
          "contourcarpet": [
           {
            "colorbar": {
             "outlinewidth": 1,
             "tickcolor": "rgb(36,36,36)",
             "ticks": "outside"
            },
            "type": "contourcarpet"
           }
          ],
          "heatmap": [
           {
            "colorbar": {
             "outlinewidth": 1,
             "tickcolor": "rgb(36,36,36)",
             "ticks": "outside"
            },
            "colorscale": [
             [
              0,
              "#440154"
             ],
             [
              0.1111111111111111,
              "#482878"
             ],
             [
              0.2222222222222222,
              "#3e4989"
             ],
             [
              0.3333333333333333,
              "#31688e"
             ],
             [
              0.4444444444444444,
              "#26828e"
             ],
             [
              0.5555555555555556,
              "#1f9e89"
             ],
             [
              0.6666666666666666,
              "#35b779"
             ],
             [
              0.7777777777777778,
              "#6ece58"
             ],
             [
              0.8888888888888888,
              "#b5de2b"
             ],
             [
              1,
              "#fde725"
             ]
            ],
            "type": "heatmap"
           }
          ],
          "histogram": [
           {
            "marker": {
             "line": {
              "color": "white",
              "width": 0.6
             }
            },
            "type": "histogram"
           }
          ],
          "histogram2d": [
           {
            "colorbar": {
             "outlinewidth": 1,
             "tickcolor": "rgb(36,36,36)",
             "ticks": "outside"
            },
            "colorscale": [
             [
              0,
              "#440154"
             ],
             [
              0.1111111111111111,
              "#482878"
             ],
             [
              0.2222222222222222,
              "#3e4989"
             ],
             [
              0.3333333333333333,
              "#31688e"
             ],
             [
              0.4444444444444444,
              "#26828e"
             ],
             [
              0.5555555555555556,
              "#1f9e89"
             ],
             [
              0.6666666666666666,
              "#35b779"
             ],
             [
              0.7777777777777778,
              "#6ece58"
             ],
             [
              0.8888888888888888,
              "#b5de2b"
             ],
             [
              1,
              "#fde725"
             ]
            ],
            "type": "histogram2d"
           }
          ],
          "histogram2dcontour": [
           {
            "colorbar": {
             "outlinewidth": 1,
             "tickcolor": "rgb(36,36,36)",
             "ticks": "outside"
            },
            "colorscale": [
             [
              0,
              "#440154"
             ],
             [
              0.1111111111111111,
              "#482878"
             ],
             [
              0.2222222222222222,
              "#3e4989"
             ],
             [
              0.3333333333333333,
              "#31688e"
             ],
             [
              0.4444444444444444,
              "#26828e"
             ],
             [
              0.5555555555555556,
              "#1f9e89"
             ],
             [
              0.6666666666666666,
              "#35b779"
             ],
             [
              0.7777777777777778,
              "#6ece58"
             ],
             [
              0.8888888888888888,
              "#b5de2b"
             ],
             [
              1,
              "#fde725"
             ]
            ],
            "type": "histogram2dcontour"
           }
          ],
          "mesh3d": [
           {
            "colorbar": {
             "outlinewidth": 1,
             "tickcolor": "rgb(36,36,36)",
             "ticks": "outside"
            },
            "type": "mesh3d"
           }
          ],
          "parcoords": [
           {
            "line": {
             "colorbar": {
              "outlinewidth": 1,
              "tickcolor": "rgb(36,36,36)",
              "ticks": "outside"
             }
            },
            "type": "parcoords"
           }
          ],
          "pie": [
           {
            "automargin": true,
            "type": "pie"
           }
          ],
          "scatter": [
           {
            "fillpattern": {
             "fillmode": "overlay",
             "size": 10,
             "solidity": 0.2
            },
            "type": "scatter"
           }
          ],
          "scatter3d": [
           {
            "line": {
             "colorbar": {
              "outlinewidth": 1,
              "tickcolor": "rgb(36,36,36)",
              "ticks": "outside"
             }
            },
            "marker": {
             "colorbar": {
              "outlinewidth": 1,
              "tickcolor": "rgb(36,36,36)",
              "ticks": "outside"
             }
            },
            "type": "scatter3d"
           }
          ],
          "scattercarpet": [
           {
            "marker": {
             "colorbar": {
              "outlinewidth": 1,
              "tickcolor": "rgb(36,36,36)",
              "ticks": "outside"
             }
            },
            "type": "scattercarpet"
           }
          ],
          "scattergeo": [
           {
            "marker": {
             "colorbar": {
              "outlinewidth": 1,
              "tickcolor": "rgb(36,36,36)",
              "ticks": "outside"
             }
            },
            "type": "scattergeo"
           }
          ],
          "scattergl": [
           {
            "marker": {
             "colorbar": {
              "outlinewidth": 1,
              "tickcolor": "rgb(36,36,36)",
              "ticks": "outside"
             }
            },
            "type": "scattergl"
           }
          ],
          "scattermap": [
           {
            "marker": {
             "colorbar": {
              "outlinewidth": 1,
              "tickcolor": "rgb(36,36,36)",
              "ticks": "outside"
             }
            },
            "type": "scattermap"
           }
          ],
          "scattermapbox": [
           {
            "marker": {
             "colorbar": {
              "outlinewidth": 1,
              "tickcolor": "rgb(36,36,36)",
              "ticks": "outside"
             }
            },
            "type": "scattermapbox"
           }
          ],
          "scatterpolar": [
           {
            "marker": {
             "colorbar": {
              "outlinewidth": 1,
              "tickcolor": "rgb(36,36,36)",
              "ticks": "outside"
             }
            },
            "type": "scatterpolar"
           }
          ],
          "scatterpolargl": [
           {
            "marker": {
             "colorbar": {
              "outlinewidth": 1,
              "tickcolor": "rgb(36,36,36)",
              "ticks": "outside"
             }
            },
            "type": "scatterpolargl"
           }
          ],
          "scatterternary": [
           {
            "marker": {
             "colorbar": {
              "outlinewidth": 1,
              "tickcolor": "rgb(36,36,36)",
              "ticks": "outside"
             }
            },
            "type": "scatterternary"
           }
          ],
          "surface": [
           {
            "colorbar": {
             "outlinewidth": 1,
             "tickcolor": "rgb(36,36,36)",
             "ticks": "outside"
            },
            "colorscale": [
             [
              0,
              "#440154"
             ],
             [
              0.1111111111111111,
              "#482878"
             ],
             [
              0.2222222222222222,
              "#3e4989"
             ],
             [
              0.3333333333333333,
              "#31688e"
             ],
             [
              0.4444444444444444,
              "#26828e"
             ],
             [
              0.5555555555555556,
              "#1f9e89"
             ],
             [
              0.6666666666666666,
              "#35b779"
             ],
             [
              0.7777777777777778,
              "#6ece58"
             ],
             [
              0.8888888888888888,
              "#b5de2b"
             ],
             [
              1,
              "#fde725"
             ]
            ],
            "type": "surface"
           }
          ],
          "table": [
           {
            "cells": {
             "fill": {
              "color": "rgb(237,237,237)"
             },
             "line": {
              "color": "white"
             }
            },
            "header": {
             "fill": {
              "color": "rgb(217,217,217)"
             },
             "line": {
              "color": "white"
             }
            },
            "type": "table"
           }
          ]
         },
         "layout": {
          "annotationdefaults": {
           "arrowhead": 0,
           "arrowwidth": 1
          },
          "autotypenumbers": "strict",
          "coloraxis": {
           "colorbar": {
            "outlinewidth": 1,
            "tickcolor": "rgb(36,36,36)",
            "ticks": "outside"
           }
          },
          "colorscale": {
           "diverging": [
            [
             0,
             "rgb(103,0,31)"
            ],
            [
             0.1,
             "rgb(178,24,43)"
            ],
            [
             0.2,
             "rgb(214,96,77)"
            ],
            [
             0.3,
             "rgb(244,165,130)"
            ],
            [
             0.4,
             "rgb(253,219,199)"
            ],
            [
             0.5,
             "rgb(247,247,247)"
            ],
            [
             0.6,
             "rgb(209,229,240)"
            ],
            [
             0.7,
             "rgb(146,197,222)"
            ],
            [
             0.8,
             "rgb(67,147,195)"
            ],
            [
             0.9,
             "rgb(33,102,172)"
            ],
            [
             1,
             "rgb(5,48,97)"
            ]
           ],
           "sequential": [
            [
             0,
             "#440154"
            ],
            [
             0.1111111111111111,
             "#482878"
            ],
            [
             0.2222222222222222,
             "#3e4989"
            ],
            [
             0.3333333333333333,
             "#31688e"
            ],
            [
             0.4444444444444444,
             "#26828e"
            ],
            [
             0.5555555555555556,
             "#1f9e89"
            ],
            [
             0.6666666666666666,
             "#35b779"
            ],
            [
             0.7777777777777778,
             "#6ece58"
            ],
            [
             0.8888888888888888,
             "#b5de2b"
            ],
            [
             1,
             "#fde725"
            ]
           ],
           "sequentialminus": [
            [
             0,
             "#440154"
            ],
            [
             0.1111111111111111,
             "#482878"
            ],
            [
             0.2222222222222222,
             "#3e4989"
            ],
            [
             0.3333333333333333,
             "#31688e"
            ],
            [
             0.4444444444444444,
             "#26828e"
            ],
            [
             0.5555555555555556,
             "#1f9e89"
            ],
            [
             0.6666666666666666,
             "#35b779"
            ],
            [
             0.7777777777777778,
             "#6ece58"
            ],
            [
             0.8888888888888888,
             "#b5de2b"
            ],
            [
             1,
             "#fde725"
            ]
           ]
          },
          "colorway": [
           "#1F77B4",
           "#FF7F0E",
           "#2CA02C",
           "#D62728",
           "#9467BD",
           "#8C564B",
           "#E377C2",
           "#7F7F7F",
           "#BCBD22",
           "#17BECF"
          ],
          "font": {
           "color": "rgb(36,36,36)"
          },
          "geo": {
           "bgcolor": "white",
           "lakecolor": "white",
           "landcolor": "white",
           "showlakes": true,
           "showland": true,
           "subunitcolor": "white"
          },
          "hoverlabel": {
           "align": "left"
          },
          "hovermode": "closest",
          "mapbox": {
           "style": "light"
          },
          "paper_bgcolor": "white",
          "plot_bgcolor": "white",
          "polar": {
           "angularaxis": {
            "gridcolor": "rgb(232,232,232)",
            "linecolor": "rgb(36,36,36)",
            "showgrid": false,
            "showline": true,
            "ticks": "outside"
           },
           "bgcolor": "white",
           "radialaxis": {
            "gridcolor": "rgb(232,232,232)",
            "linecolor": "rgb(36,36,36)",
            "showgrid": false,
            "showline": true,
            "ticks": "outside"
           }
          },
          "scene": {
           "xaxis": {
            "backgroundcolor": "white",
            "gridcolor": "rgb(232,232,232)",
            "gridwidth": 2,
            "linecolor": "rgb(36,36,36)",
            "showbackground": true,
            "showgrid": false,
            "showline": true,
            "ticks": "outside",
            "zeroline": false,
            "zerolinecolor": "rgb(36,36,36)"
           },
           "yaxis": {
            "backgroundcolor": "white",
            "gridcolor": "rgb(232,232,232)",
            "gridwidth": 2,
            "linecolor": "rgb(36,36,36)",
            "showbackground": true,
            "showgrid": false,
            "showline": true,
            "ticks": "outside",
            "zeroline": false,
            "zerolinecolor": "rgb(36,36,36)"
           },
           "zaxis": {
            "backgroundcolor": "white",
            "gridcolor": "rgb(232,232,232)",
            "gridwidth": 2,
            "linecolor": "rgb(36,36,36)",
            "showbackground": true,
            "showgrid": false,
            "showline": true,
            "ticks": "outside",
            "zeroline": false,
            "zerolinecolor": "rgb(36,36,36)"
           }
          },
          "shapedefaults": {
           "fillcolor": "black",
           "line": {
            "width": 0
           },
           "opacity": 0.3
          },
          "ternary": {
           "aaxis": {
            "gridcolor": "rgb(232,232,232)",
            "linecolor": "rgb(36,36,36)",
            "showgrid": false,
            "showline": true,
            "ticks": "outside"
           },
           "baxis": {
            "gridcolor": "rgb(232,232,232)",
            "linecolor": "rgb(36,36,36)",
            "showgrid": false,
            "showline": true,
            "ticks": "outside"
           },
           "bgcolor": "white",
           "caxis": {
            "gridcolor": "rgb(232,232,232)",
            "linecolor": "rgb(36,36,36)",
            "showgrid": false,
            "showline": true,
            "ticks": "outside"
           }
          },
          "title": {
           "x": 0.05
          },
          "xaxis": {
           "automargin": true,
           "gridcolor": "rgb(232,232,232)",
           "linecolor": "rgb(36,36,36)",
           "showgrid": false,
           "showline": true,
           "ticks": "outside",
           "title": {
            "standoff": 15
           },
           "zeroline": false,
           "zerolinecolor": "rgb(36,36,36)"
          },
          "yaxis": {
           "automargin": true,
           "gridcolor": "rgb(232,232,232)",
           "linecolor": "rgb(36,36,36)",
           "showgrid": false,
           "showline": true,
           "ticks": "outside",
           "title": {
            "standoff": 15
           },
           "zeroline": false,
           "zerolinecolor": "rgb(36,36,36)"
          }
         }
        },
        "title": {
         "font": {
          "color": "Black",
          "size": 22
         },
         "text": "<b>Documents and Topics</b>",
         "x": 0.5,
         "xanchor": "center",
         "yanchor": "top"
        },
        "width": 1200,
        "xaxis": {
         "autorange": true,
         "range": [
          4.477865330967189,
          10.494077513498077
         ],
         "visible": false
        },
        "yaxis": {
         "autorange": true,
         "range": [
          1.249444178255071,
          6.78036871538556
         ],
         "visible": false
        }
       }
      },
      "image/png": "[encoded data removed]"
     },
     "metadata": {},
     "output_type": "display_data"
    }
   ],
   "source": [
    "# 可视化主题和文档\n",
    "fig = topic_model.visualize_documents(\n",
    "    titles,\n",
    "    reduced_embeddings=reduced_embeddings,\n",
    "    width=1200,\n",
    "    hide_annotations=True\n",
    ")\n",
    "# 更新图例字体设置以便于可视化\n",
    "fig.update_layout(font=dict(size=16))"
   ]
  },
  {
   "cell_type": "markdown",
   "id": "6f0602c1-3eb1-4110-a919-4d9245e98c9d",
   "metadata": {},
   "source": [
    "### 添加特殊的“乐高积木块”"
   ]
  },
  {
   "cell_type": "code",
   "execution_count": 58,
   "id": "f3fbd5cb-261a-41b8-8884-ad17c36abd81",
   "metadata": {},
   "outputs": [],
   "source": [
    "# 保存原始表示\n",
    "from copy import deepcopy\n",
    "original_topics = deepcopy(topic_model.topic_representations_)"
   ]
  },
  {
   "cell_type": "code",
   "execution_count": 63,
   "id": "5d353d49-40b4-43d2-9677-4466a58a0934",
   "metadata": {},
   "outputs": [],
   "source": [
    "def topic_differences(model, original_topics, nr_topics=5):\n",
    "    \"\"\"显示两个模型之间主题表示的差异\"\"\"\n",
    "    df = pd.DataFrame(columns=[\"Topic\", \"Original\", \"Updated\"])\n",
    "    for topic in range(nr_topics):\n",
    "        # 每个模型、每个主题提取前5个词\n",
    "        og_words = \" | \".join(list(zip(*original_topics[topic]))[0][:5])\n",
    "        new_words = \" | \".join(list(zip(*model.get_topic(topic)))[0][:5])\n",
    "        df.loc[len(df)] = [topic, og_words, new_words]\n",
    "    return df"
   ]
  },
  {
   "cell_type": "code",
   "execution_count": 64,
   "id": "00fce2c0-1113-4579-8df3-7db7a8458d38",
   "metadata": {},
   "outputs": [
    {
     "data": {
      "text/html": [
       "<div>\n",
       "<style scoped>\n",
       "    .dataframe tbody tr th:only-of-type {\n",
       "        vertical-align: middle;\n",
       "    }\n",
       "\n",
       "    .dataframe tbody tr th {\n",
       "        vertical-align: top;\n",
       "    }\n",
       "\n",
       "    .dataframe thead th {\n",
       "        text-align: right;\n",
       "    }\n",
       "</style>\n",
       "<table border=\"1\" class=\"dataframe\">\n",
       "  <thead>\n",
       "    <tr style=\"text-align: right;\">\n",
       "      <th></th>\n",
       "      <th>Topic</th>\n",
       "      <th>Original</th>\n",
       "      <th>Updated</th>\n",
       "    </tr>\n",
       "  </thead>\n",
       "  <tbody>\n",
       "    <tr>\n",
       "      <th>0</th>\n",
       "      <td>0</td>\n",
       "      <td>the | of | and | in | to</td>\n",
       "      <td>linguistic | words | language | word | statist...</td>\n",
       "    </tr>\n",
       "    <tr>\n",
       "      <th>1</th>\n",
       "      <td>1</td>\n",
       "      <td>of | the | and | in | to</td>\n",
       "      <td>parsing | parsers | grammar | syntactic | parser</td>\n",
       "    </tr>\n",
       "    <tr>\n",
       "      <th>2</th>\n",
       "      <td>2</td>\n",
       "      <td>the | of | to | semantic | in</td>\n",
       "      <td>semantic | lexical | vocabulary | words | disa...</td>\n",
       "    </tr>\n",
       "    <tr>\n",
       "      <th>3</th>\n",
       "      <td>3</td>\n",
       "      <td>the | of | we | in | and</td>\n",
       "      <td>summarizing | summarization | collocation | co...</td>\n",
       "    </tr>\n",
       "    <tr>\n",
       "      <th>4</th>\n",
       "      <td>4</td>\n",
       "      <td>the | native | recognition | non | speech</td>\n",
       "      <td>pronunciation | pronunciations | arabic | voic...</td>\n",
       "    </tr>\n",
       "  </tbody>\n",
       "</table>\n",
       "</div>"
      ],
      "text/plain": [
       "   Topic                                   Original  \\\n",
       "0      0                   the | of | and | in | to   \n",
       "1      1                   of | the | and | in | to   \n",
       "2      2              the | of | to | semantic | in   \n",
       "3      3                   the | of | we | in | and   \n",
       "4      4  the | native | recognition | non | speech   \n",
       "\n",
       "                                             Updated  \n",
       "0  linguistic | words | language | word | statist...  \n",
       "1   parsing | parsers | grammar | syntactic | parser  \n",
       "2  semantic | lexical | vocabulary | words | disa...  \n",
       "3  summarizing | summarization | collocation | co...  \n",
       "4  pronunciation | pronunciations | arabic | voic...  "
      ]
     },
     "execution_count": 64,
     "metadata": {},
     "output_type": "execute_result"
    }
   ],
   "source": [
    "from bertopic.representation import KeyBERTInspired\n",
    "# 使用KeyBERTInspired更新主题表示\n",
    "representation_model = KeyBERTInspired()\n",
    "topic_model.update_topics(abstracts, representation_model=representation_model)\n",
    "# 展示主题差异\n",
    "topic_differences(topic_model, original_topics)"
   ]
  },
  {
   "cell_type": "code",
   "execution_count": 65,
   "id": "88e053b9-0ee3-4e00-aee0-5cbd3277884a",
   "metadata": {},
   "outputs": [
    {
     "data": {
      "text/html": [
       "<div>\n",
       "<style scoped>\n",
       "    .dataframe tbody tr th:only-of-type {\n",
       "        vertical-align: middle;\n",
       "    }\n",
       "\n",
       "    .dataframe tbody tr th {\n",
       "        vertical-align: top;\n",
       "    }\n",
       "\n",
       "    .dataframe thead th {\n",
       "        text-align: right;\n",
       "    }\n",
       "</style>\n",
       "<table border=\"1\" class=\"dataframe\">\n",
       "  <thead>\n",
       "    <tr style=\"text-align: right;\">\n",
       "      <th></th>\n",
       "      <th>Topic</th>\n",
       "      <th>Original</th>\n",
       "      <th>Updated</th>\n",
       "    </tr>\n",
       "  </thead>\n",
       "  <tbody>\n",
       "    <tr>\n",
       "      <th>0</th>\n",
       "      <td>0</td>\n",
       "      <td>the | of | and | in | to</td>\n",
       "      <td>of | to | language | texts | on</td>\n",
       "    </tr>\n",
       "    <tr>\n",
       "      <th>1</th>\n",
       "      <td>1</td>\n",
       "      <td>of | the | and | in | to</td>\n",
       "      <td>grammar | parser | tree | lexicon | language</td>\n",
       "    </tr>\n",
       "    <tr>\n",
       "      <th>2</th>\n",
       "      <td>2</td>\n",
       "      <td>the | of | to | semantic | in</td>\n",
       "      <td>to | semantic | on | words | contexts</td>\n",
       "    </tr>\n",
       "    <tr>\n",
       "      <th>3</th>\n",
       "      <td>3</td>\n",
       "      <td>the | of | we | in | and</td>\n",
       "      <td>the | is | evolving | automatic | fuzzy</td>\n",
       "    </tr>\n",
       "    <tr>\n",
       "      <th>4</th>\n",
       "      <td>4</td>\n",
       "      <td>the | native | recognition | non | speech</td>\n",
       "      <td>native | speech | models | error | arabic</td>\n",
       "    </tr>\n",
       "  </tbody>\n",
       "</table>\n",
       "</div>"
      ],
      "text/plain": [
       "   Topic                                   Original  \\\n",
       "0      0                   the | of | and | in | to   \n",
       "1      1                   of | the | and | in | to   \n",
       "2      2              the | of | to | semantic | in   \n",
       "3      3                   the | of | we | in | and   \n",
       "4      4  the | native | recognition | non | speech   \n",
       "\n",
       "                                        Updated  \n",
       "0               of | to | language | texts | on  \n",
       "1  grammar | parser | tree | lexicon | language  \n",
       "2         to | semantic | on | words | contexts  \n",
       "3       the | is | evolving | automatic | fuzzy  \n",
       "4     native | speech | models | error | arabic  "
      ]
     },
     "execution_count": 65,
     "metadata": {},
     "output_type": "execute_result"
    }
   ],
   "source": [
    "# 最大边际相关性（maximal marginal relevance，MMR）\n",
    "from bertopic.representation import MaximalMarginalRelevance\n",
    "# 将主题表示更新为最大边际相关性\n",
    "representation_model = MaximalMarginalRelevance(diversity=0.2)\n",
    "topic_model.update_topics(abstracts, representation_model=representation_model)\n",
    "# 展示主题差异\n",
    "topic_differences(topic_model, original_topics)"
   ]
  },
  {
   "cell_type": "code",
   "execution_count": null,
   "id": "c3181f05-8f2d-45d0-adcf-aa59d900e3a5",
   "metadata": {},
   "outputs": [],
   "source": []
  },
  {
   "cell_type": "code",
   "execution_count": 66,
   "id": "1c17a0b5-65cf-41e9-8f25-09498659984e",
   "metadata": {},
   "outputs": [],
   "source": [
    "from transformers import pipeline\n",
    "from bertopic.representation import TextGeneration"
   ]
  },
  {
   "cell_type": "code",
   "execution_count": 67,
   "id": "d4931353-eea6-48d6-9d8d-b07a1d5a2085",
   "metadata": {},
   "outputs": [
    {
     "name": "stderr",
     "output_type": "stream",
     "text": [
      "Device set to use cpu\n",
      "100%|█████████████████████████████████████████████████████████████████████████████████████████████████| 6/6 [00:07<00:00,  1.17s/it]\n"
     ]
    },
    {
     "data": {
      "text/html": [
       "<div>\n",
       "<style scoped>\n",
       "    .dataframe tbody tr th:only-of-type {\n",
       "        vertical-align: middle;\n",
       "    }\n",
       "\n",
       "    .dataframe tbody tr th {\n",
       "        vertical-align: top;\n",
       "    }\n",
       "\n",
       "    .dataframe thead th {\n",
       "        text-align: right;\n",
       "    }\n",
       "</style>\n",
       "<table border=\"1\" class=\"dataframe\">\n",
       "  <thead>\n",
       "    <tr style=\"text-align: right;\">\n",
       "      <th></th>\n",
       "      <th>Topic</th>\n",
       "      <th>Original</th>\n",
       "      <th>Updated</th>\n",
       "    </tr>\n",
       "  </thead>\n",
       "  <tbody>\n",
       "    <tr>\n",
       "      <th>0</th>\n",
       "      <td>0</td>\n",
       "      <td>the | of | and | in | to</td>\n",
       "      <td>Science/Tech |  |  |  |</td>\n",
       "    </tr>\n",
       "    <tr>\n",
       "      <th>1</th>\n",
       "      <td>1</td>\n",
       "      <td>of | the | and | in | to</td>\n",
       "      <td>Syntactic parsing |  |  |  |</td>\n",
       "    </tr>\n",
       "    <tr>\n",
       "      <th>2</th>\n",
       "      <td>2</td>\n",
       "      <td>the | of | to | semantic | in</td>\n",
       "      <td>lexico-semantic resources for children's seman...</td>\n",
       "    </tr>\n",
       "    <tr>\n",
       "      <th>3</th>\n",
       "      <td>3</td>\n",
       "      <td>the | of | we | in | and</td>\n",
       "      <td>Science/Tech |  |  |  |</td>\n",
       "    </tr>\n",
       "    <tr>\n",
       "      <th>4</th>\n",
       "      <td>4</td>\n",
       "      <td>the | native | recognition | non | speech</td>\n",
       "      <td>Speech recognition |  |  |  |</td>\n",
       "    </tr>\n",
       "  </tbody>\n",
       "</table>\n",
       "</div>"
      ],
      "text/plain": [
       "   Topic                                   Original  \\\n",
       "0      0                   the | of | and | in | to   \n",
       "1      1                   of | the | and | in | to   \n",
       "2      2              the | of | to | semantic | in   \n",
       "3      3                   the | of | we | in | and   \n",
       "4      4  the | native | recognition | non | speech   \n",
       "\n",
       "                                             Updated  \n",
       "0                           Science/Tech |  |  |  |   \n",
       "1                      Syntactic parsing |  |  |  |   \n",
       "2  lexico-semantic resources for children's seman...  \n",
       "3                           Science/Tech |  |  |  |   \n",
       "4                     Speech recognition |  |  |  |   "
      ]
     },
     "execution_count": 67,
     "metadata": {},
     "output_type": "execute_result"
    }
   ],
   "source": [
    "prompt = \"\"\"I have a topic that contains the following documents:\n",
    "[DOCUMENTS]\n",
    "The topic is described by the following keywords: '[KEYWORDS]'.\n",
    "Based on the documents and keywords, what is this topic about?\"\"\"\n",
    "\n",
    "# 使用FLAN-T5更新主题表示\n",
    "generator = pipeline(\"text2text-generation\", model=\"D:/models/google-flan-t5-small\")\n",
    "representation_model = TextGeneration(\n",
    "    generator, prompt=prompt, doc_length=50, tokenizer=\"whitespace\"\n",
    ")\n",
    "topic_model.update_topics(abstracts, representation_model=representation_model)\n",
    "# 展示主题差异\n",
    "topic_differences(topic_model, original_topics)"
   ]
  },
  {
   "cell_type": "code",
   "execution_count": null,
   "id": "d96a519b-e09e-411c-ad37-a0758f232ed4",
   "metadata": {},
   "outputs": [],
   "source": [
    "from bertopic.representation import OpenAI\n",
    "import openai\n",
    "prompt = \"\"\"I have a topic that contains the following documents:\n",
    "[DOCUMENTS]\n",
    "The topic is described by the following keywords: [KEYWORDS]\n",
    "Based on the information above, extract a short topic label in the following format: topic: <short topic label>\"\"\"\n",
    "client = openai.OpenAI(api_key=\"sk\", base_url=\"https://dashscope.aliyuncs.com/compatible-mode/v1\")\n",
    "representation_model = OpenAI(client, model=\"qwen-plus\", exponential_backoff=True, chat=True, prompt=prompt, base_url=\"https://dashscope.aliyuncs.com/compatible-mode/v1\")\n",
    "topic_model.update_topics(abstracts, representation_model=representation_model)\n",
    "# 展示主题差异\n",
    "topic_differences(topic_model, original_topics)"
   ]
  },
  {
   "cell_type": "code",
   "execution_count": null,
   "id": "1ad3de02-f388-49e2-a80d-2729a16d3d4e",
   "metadata": {},
   "outputs": [],
   "source": [
    "# pip install datamapplot\n",
    "# 可视化主题和文档\n",
    "fig = topic_model.visualize_document_datamap(\n",
    "    titles,\n",
    "    topics=list(range(20)),\n",
    "    reduced_embeddings=reduced_embeddings,\n",
    "    width=1200\n",
    ")"
   ]
  },
  {
   "cell_type": "code",
   "execution_count": null,
   "id": "9072147f-21a7-4b39-92f7-5678b3ba3938",
   "metadata": {},
   "outputs": [],
   "source": []
  }
 ],
 "metadata": {
  "kernelspec": {
   "display_name": "Python (peft)",
   "language": "python",
   "name": "peft"
  },
  "language_info": {
   "codemirror_mode": {
    "name": "ipython",
    "version": 3
   },
   "file_extension": ".py",
   "mimetype": "text/x-python",
   "name": "python",
   "nbconvert_exporter": "python",
   "pygments_lexer": "ipython3",
   "version": "3.11.13"
  }
 },
 "nbformat": 4,
 "nbformat_minor": 5
}

{
 "cells": [
  {
   "cell_type": "code",
   "execution_count": 1,
   "id": "3a5e06d6-4cf9-41f8-a1f7-ddf6babeca64",
   "metadata": {},
   "outputs": [],
   "source": [
    "from huggingface_hub import snapshot_download"
   ]
  },
  {
   "cell_type": "code",
   "execution_count": null,
   "id": "1553097c-6e1a-415e-ac6f-52d150140c88",
   "metadata": {},
   "outputs": [],
   "source": [
    "snapshot_download(\n",
    "    repo_id=\"distilbert/distilbert-base-uncased-finetuned-sst-2-english\",\n",
    "    local_dir=\"/data/models/distilbert-base-uncased-finetuned-sst-2-english\",\n",
    "    force_download=True,\n",
    "    cache_dir=\"/data/models/hf_cache\",\n",
    "    endpoint=\"https://hf-mirror.com\")"
   ]
  },
  {
   "cell_type": "code",
   "execution_count": null,
   "id": "b725c906-4768-4b1d-a9a5-bed8232cb85a",
   "metadata": {},
   "outputs": [],
   "source": [
    "snapshot_download(\n",
    "    repo_id=\"dbmdz/bert-large-cased-finetuned-conll03-english\",\n",
    "    local_dir=\"/data/models/bert-large-cased-finetuned-conll03-english\",\n",
    "    force_download=True,\n",
    "    cache_dir=\"/data/models/hf_cache\",\n",
    "    endpoint=\"https://hf-mirror.com\")"
   ]
  },
  {
   "cell_type": "code",
   "execution_count": null,
   "id": "f0dd17f2-2700-44c4-a1ca-27af79924fb6",
   "metadata": {},
   "outputs": [],
   "source": [
    "snapshot_download(\n",
    "    repo_id=\"distilbert/distilbert-base-cased-distilled-squad\",\n",
    "    local_dir=\"/data/models/distilbert-base-cased-distilled-squad\",\n",
    "    force_download=True,\n",
    "    cache_dir=\"/data/models/hf_cache\",\n",
    "    endpoint=\"https://hf-mirror.com\")"
   ]
  },
  {
   "cell_type": "code",
   "execution_count": null,
   "id": "d1db5cc7-1b82-46d7-8262-ee5b2af6f399",
   "metadata": {},
   "outputs": [],
   "source": [
    "snapshot_download(\n",
    "    repo_id=\"google-t5/t5-base\",\n",
    "    local_dir=\"/data/models/google-t5-base\",\n",
    "    force_download=True,\n",
    "    cache_dir=\"/data/models/hf_cache\",\n",
    "    endpoint=\"https://hf-mirror.com\")"
   ]
  },
  {
   "cell_type": "code",
   "execution_count": null,
   "id": "5706172b-08ec-40bb-ae0d-0aa392787956",
   "metadata": {},
   "outputs": [],
   "source": [
    "snapshot_download(\n",
    "    repo_id=\"superb/hubert-base-superb-er\",\n",
    "    local_dir=\"/data/models/hubert-base-superb-er\",\n",
    "    force_download=True,\n",
    "    cache_dir=\"/data/models/hf_cache\",\n",
    "    endpoint=\"https://hf-mirror.com\")"
   ]
  },
  {
   "cell_type": "code",
   "execution_count": null,
   "id": "423806c7-6ce9-45ff-9395-b57521ef67b2",
   "metadata": {
    "scrolled": true
   },
   "outputs": [],
   "source": [
    "snapshot_download(\n",
    "    repo_id=\"openai/whisper-small\",\n",
    "    local_dir=\"/data/models/openai-whisper-small\",\n",
    "    force_download=True,\n",
    "    cache_dir=\"/data/models/hf_cache\",\n",
    "    endpoint=\"https://hf-mirror.com\")"
   ]
  },
  {
   "cell_type": "code",
   "execution_count": null,
   "id": "b0b6e39a-8507-44fb-b709-8ff9f1f7b9d6",
   "metadata": {},
   "outputs": [],
   "source": [
    "snapshot_download(\n",
    "    repo_id=\"google/vit-base-patch16-224\",\n",
    "    local_dir=\"/data/models/google-vit-base-patch16-224\",\n",
    "    force_download=True,\n",
    "    cache_dir=\"/data/models/hf_cache\",\n",
    "    endpoint=\"https://hf-mirror.com\")"
   ]
  },
  {
   "cell_type": "code",
   "execution_count": null,
   "id": "22e796e6-a597-42c4-a749-bf4b32fe890d",
   "metadata": {
    "scrolled": true
   },
   "outputs": [],
   "source": [
    "snapshot_download(\n",
    "    repo_id=\"facebook/detr-resnet-50\",\n",
    "    local_dir=\"/data/models/facebook-detr-resnet-50\",\n",
    "    force_download=True,\n",
    "    cache_dir=\"/data/models/hf_cache\",\n",
    "    endpoint=\"https://hf-mirror.com\")"
   ]
  },
  {
   "cell_type": "code",
   "execution_count": null,
   "id": "93b134cf-a965-4d35-af68-5d970501a916",
   "metadata": {},
   "outputs": [],
   "source": [
    "snapshot_download(\n",
    "    repo_id=\"hustvl/yolos-tiny\",\n",
    "    local_dir=\"/data/models/hustvl-yolos-tiny\",\n",
    "    force_download=True,\n",
    "    cache_dir=\"/data/models/hf_cache\",\n",
    "    endpoint=\"https://hf-mirror.com\")"
   ]
  },
  {
   "cell_type": "code",
   "execution_count": null,
   "id": "20ac06ad-6108-4270-9ca5-600140f2cb5f",
   "metadata": {},
   "outputs": [],
   "source": [
    "snapshot_download(\n",
    "    repo_id=\"facebook/bart-large-cnn\",\n",
    "    local_dir=\"/data/models/facebook-bart-large-cnn\",\n",
    "    force_download=True,\n",
    "    cache_dir=\"/data/models/hf_cache\",\n",
    "    endpoint=\"https://hf-mirror.com\")"
   ]
  },
  {
   "cell_type": "code",
   "execution_count": null,
   "id": "417830eb-8359-457e-abf9-e0cbef6bdba0",
   "metadata": {},
   "outputs": [],
   "source": []
  }
 ],
 "metadata": {
  "kernelspec": {
   "display_name": "Python (peft)",
   "language": "python",
   "name": "peft"
  },
  "language_info": {
   "codemirror_mode": {
    "name": "ipython",
    "version": 3
   },
   "file_extension": ".py",
   "mimetype": "text/x-python",
   "name": "python",
   "nbconvert_exporter": "python",
   "pygments_lexer": "ipython3",
   "version": "3.11.13"
  }
 },
 "nbformat": 4,
 "nbformat_minor": 5
}

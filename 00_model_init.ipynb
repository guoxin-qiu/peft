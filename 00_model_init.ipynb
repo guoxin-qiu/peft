{
 "cells": [
  {
   "cell_type": "code",
   "execution_count": 1,
   "id": "3a5e06d6-4cf9-41f8-a1f7-ddf6babeca64",
   "metadata": {},
   "outputs": [],
   "source": [
    "from huggingface_hub import snapshot_download"
   ]
  },
  {
   "cell_type": "code",
   "execution_count": null,
   "id": "1553097c-6e1a-415e-ac6f-52d150140c88",
   "metadata": {},
   "outputs": [],
   "source": [
    "snapshot_download(\n",
    "    repo_id=\"distilbert/distilbert-base-uncased-finetuned-sst-2-english\",\n",
    "    local_dir=\"/data/models/distilbert-base-uncased-finetuned-sst-2-english\",\n",
    "    force_download=True,\n",
    "    cache_dir=\"/data/models/hf_cache\",\n",
    "    endpoint=\"https://hf-mirror.com\")"
   ]
  },
  {
   "cell_type": "code",
   "execution_count": null,
   "id": "b725c906-4768-4b1d-a9a5-bed8232cb85a",
   "metadata": {},
   "outputs": [],
   "source": [
    "snapshot_download(\n",
    "    repo_id=\"dbmdz/bert-large-cased-finetuned-conll03-english\",\n",
    "    local_dir=\"/data/models/bert-large-cased-finetuned-conll03-english\",\n",
    "    force_download=True,\n",
    "    cache_dir=\"/data/models/hf_cache\",\n",
    "    endpoint=\"https://hf-mirror.com\")"
   ]
  },
  {
   "cell_type": "code",
   "execution_count": null,
   "id": "f0dd17f2-2700-44c4-a1ca-27af79924fb6",
   "metadata": {},
   "outputs": [],
   "source": [
    "snapshot_download(\n",
    "    repo_id=\"distilbert/distilbert-base-cased-distilled-squad\",\n",
    "    local_dir=\"/data/models/distilbert-base-cased-distilled-squad\",\n",
    "    force_download=True,\n",
    "    cache_dir=\"/data/models/hf_cache\",\n",
    "    endpoint=\"https://hf-mirror.com\")"
   ]
  },
  {
   "cell_type": "code",
   "execution_count": null,
   "id": "d1db5cc7-1b82-46d7-8262-ee5b2af6f399",
   "metadata": {},
   "outputs": [],
   "source": [
    "snapshot_download(\n",
    "    repo_id=\"google-t5/t5-base\",\n",
    "    local_dir=\"/data/models/google-t5-base\",\n",
    "    force_download=True,\n",
    "    cache_dir=\"/data/models/hf_cache\",\n",
    "    endpoint=\"https://hf-mirror.com\")"
   ]
  },
  {
   "cell_type": "code",
   "execution_count": null,
   "id": "5706172b-08ec-40bb-ae0d-0aa392787956",
   "metadata": {},
   "outputs": [],
   "source": [
    "snapshot_download(\n",
    "    repo_id=\"superb/hubert-base-superb-er\",\n",
    "    local_dir=\"/data/models/hubert-base-superb-er\",\n",
    "    force_download=True,\n",
    "    cache_dir=\"/data/models/hf_cache\",\n",
    "    endpoint=\"https://hf-mirror.com\")"
   ]
  },
  {
   "cell_type": "code",
   "execution_count": null,
   "id": "423806c7-6ce9-45ff-9395-b57521ef67b2",
   "metadata": {
    "scrolled": true
   },
   "outputs": [],
   "source": [
    "snapshot_download(\n",
    "    repo_id=\"openai/whisper-small\",\n",
    "    local_dir=\"/data/models/openai-whisper-small\",\n",
    "    force_download=True,\n",
    "    cache_dir=\"/data/models/hf_cache\",\n",
    "    endpoint=\"https://hf-mirror.com\")"
   ]
  },
  {
   "cell_type": "code",
   "execution_count": null,
   "id": "b0b6e39a-8507-44fb-b709-8ff9f1f7b9d6",
   "metadata": {},
   "outputs": [],
   "source": [
    "snapshot_download(\n",
    "    repo_id=\"google/vit-base-patch16-224\",\n",
    "    local_dir=\"/data/models/google-vit-base-patch16-224\",\n",
    "    force_download=True,\n",
    "    cache_dir=\"/data/models/hf_cache\",\n",
    "    endpoint=\"https://hf-mirror.com\")"
   ]
  },
  {
   "cell_type": "code",
   "execution_count": null,
   "id": "22e796e6-a597-42c4-a749-bf4b32fe890d",
   "metadata": {
    "scrolled": true
   },
   "outputs": [],
   "source": [
    "snapshot_download(\n",
    "    repo_id=\"facebook/detr-resnet-50\",\n",
    "    local_dir=\"/data/models/facebook-detr-resnet-50\",\n",
    "    force_download=True,\n",
    "    cache_dir=\"/data/models/hf_cache\",\n",
    "    endpoint=\"https://hf-mirror.com\")"
   ]
  },
  {
   "cell_type": "code",
   "execution_count": null,
   "id": "93b134cf-a965-4d35-af68-5d970501a916",
   "metadata": {},
   "outputs": [],
   "source": [
    "snapshot_download(\n",
    "    repo_id=\"hustvl/yolos-tiny\",\n",
    "    local_dir=\"/data/models/hustvl-yolos-tiny\",\n",
    "    force_download=True,\n",
    "    cache_dir=\"/data/models/hf_cache\",\n",
    "    endpoint=\"https://hf-mirror.com\")"
   ]
  },
  {
   "cell_type": "code",
   "execution_count": null,
   "id": "20ac06ad-6108-4270-9ca5-600140f2cb5f",
   "metadata": {},
   "outputs": [],
   "source": [
    "snapshot_download(\n",
    "    repo_id=\"facebook/bart-large-cnn\",\n",
    "    local_dir=\"/data/models/facebook-bart-large-cnn\",\n",
    "    force_download=True,\n",
    "    cache_dir=\"/data/models/hf_cache\",\n",
    "    endpoint=\"https://hf-mirror.com\")"
   ]
  },
  {
   "cell_type": "code",
   "execution_count": null,
   "id": "417830eb-8359-457e-abf9-e0cbef6bdba0",
   "metadata": {},
   "outputs": [],
   "source": []
  },
  {
   "cell_type": "code",
   "execution_count": null,
   "id": "ff399eef-6021-47a5-bf44-b74967157648",
   "metadata": {},
   "outputs": [],
   "source": [
    "snapshot_download(\n",
    "    repo_id=\"microsoft/Phi-3-mini-4k-instruct\",\n",
    "    local_dir=\"/data/models/microsoft-Phi-3-mini-4k-instruct\",\n",
    "    force_download=True,\n",
    "    cache_dir=\"/data/models/hf_cache\",\n",
    "    endpoint=\"https://hf-mirror.com\")"
   ]
  },
  {
   "cell_type": "code",
   "execution_count": null,
   "id": "34888256-b1d8-4ddc-b903-fb8859bfaf1b",
   "metadata": {},
   "outputs": [],
   "source": [
    "snapshot_download(\n",
    "    repo_id=\"microsoft/phi-1_5\",\n",
    "    local_dir=\"/data/models/microsoft-phi-1_5\",\n",
    "    force_download=True,\n",
    "    cache_dir=\"/data/models/hf_cache\",\n",
    "    endpoint=\"https://hf-mirror.com\")"
   ]
  },
  {
   "cell_type": "code",
   "execution_count": null,
   "id": "0897db4e-93b6-40b4-93bf-d591b42a6545",
   "metadata": {},
   "outputs": [],
   "source": [
    "snapshot_download(\n",
    "    repo_id=\"cardiffnlp/twitter-roberta-base-sentiment-latest\",\n",
    "    local_dir=\"/data/models/cardiffnlp-twitter-roberta-base-sentiment-latest\",\n",
    "    force_download=True,\n",
    "    cache_dir=\"/data/models/hf_cache\",\n",
    "    endpoint=\"https://hf-mirror.com\")"
   ]
  },
  {
   "cell_type": "code",
   "execution_count": null,
   "id": "ea31223e-3909-4269-a023-e0cddc440a13",
   "metadata": {},
   "outputs": [],
   "source": [
    "snapshot_download(\n",
    "    repo_id=\"sentence-transformers/all-mpnet-base-v2\",\n",
    "    local_dir=\"/data/models/sentence-transformers-all-mpnet-base-v2\",\n",
    "    force_download=True,\n",
    "    cache_dir=\"/data/models/hf_cache\",\n",
    "    endpoint=\"https://hf-mirror.com\")"
   ]
  },
  {
   "cell_type": "code",
   "execution_count": null,
   "id": "a473bcda-14ef-4390-806e-1f48adbc65a7",
   "metadata": {},
   "outputs": [],
   "source": [
    "snapshot_download(\n",
    "    repo_id=\"google/flan-t5-small\",\n",
    "    local_dir=\"/data/models/google-flan-t5-small\",\n",
    "    force_download=True,\n",
    "    cache_dir=\"/data/models/hf_cache\",\n",
    "    endpoint=\"https://hf-mirror.com\")"
   ]
  },
  {
   "cell_type": "code",
   "execution_count": null,
   "id": "b1146f20-0943-481e-b7de-772d778d01cc",
   "metadata": {},
   "outputs": [],
   "source": [
    "snapshot_download(\n",
    "    repo_id=\"thenlper/gte-small\",\n",
    "    local_dir=\"/data/models/thenlper-gte-small\",\n",
    "    force_download=True,\n",
    "    cache_dir=\"/data/models/hf_cache\",\n",
    "    endpoint=\"https://hf-mirror.com\")"
   ]
  },
  {
   "cell_type": "code",
   "execution_count": null,
   "id": "cbf92ed7-fd0a-4f41-8d63-285b8893f851",
   "metadata": {},
   "outputs": [],
   "source": [
    "snapshot_download(\n",
    "    repo_id=\"google-bert/bert-base-cased\",\n",
    "    local_dir=\"/data/models/bert-base-cased\",\n",
    "    force_download=True,\n",
    "    cache_dir=\"/data/models/hf_cache\",\n",
    "    endpoint=\"https://hf-mirror.com\")"
   ]
  },
  {
   "cell_type": "code",
   "execution_count": null,
   "id": "4c8b13d7-9a7b-4cac-83fc-31a2e283b89f",
   "metadata": {},
   "outputs": [],
   "source": [
    "snapshot_download(\n",
    "    repo_id=\"distilbert/distilbert-base-uncased\",\n",
    "    local_dir=\"/data/models/distilbert--distilbert-base-uncased\",\n",
    "    force_download=True,\n",
    "    cache_dir=\"/data/models/hf_cache\",\n",
    "    endpoint=\"https://hf-mirror.com\")"
   ]
  },
  {
   "cell_type": "code",
   "execution_count": null,
   "id": "8750e56f-b555-4d2c-aa4e-571a3aac74ce",
   "metadata": {},
   "outputs": [],
   "source": [
    "snapshot_download(\n",
    "    repo_id=\"google-bert/bert-base-chinese\",\n",
    "    local_dir=\"/data/models/google-bert--bert-base-chinese\",\n",
    "    force_download=True,\n",
    "    cache_dir=\"/data/models/hf_cache\",\n",
    "    endpoint=\"https://hf-mirror.com\")"
   ]
  },
  {
   "cell_type": "code",
   "execution_count": null,
   "id": "2226a4d0-876c-439f-9073-8d43862fec64",
   "metadata": {},
   "outputs": [],
   "source": []
  }
 ],
 "metadata": {
  "kernelspec": {
   "display_name": "Python (peft)",
   "language": "python",
   "name": "peft"
  },
  "language_info": {
   "codemirror_mode": {
    "name": "ipython",
    "version": 3
   },
   "file_extension": ".py",
   "mimetype": "text/x-python",
   "name": "python",
   "nbconvert_exporter": "python",
   "pygments_lexer": "ipython3",
   "version": "3.11.13"
  }
 },
 "nbformat": 4,
 "nbformat_minor": 5
}
